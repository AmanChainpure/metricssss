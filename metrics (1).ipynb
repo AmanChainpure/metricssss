{
  "nbformat": 4,
  "nbformat_minor": 0,
  "metadata": {
    "colab": {
      "provenance": []
    },
    "kernelspec": {
      "name": "python3",
      "display_name": "Python 3"
    },
    "language_info": {
      "name": "python"
    }
  },
  "cells": [
    {
      "cell_type": "code",
      "execution_count": null,
      "metadata": {
        "id": "3zwVmOq0yP49"
      },
      "outputs": [],
      "source": [
        "import pandas as pd\n",
        "import numpy as np\n",
        "import matplotlib.pyplot as plt\n",
        "from datetime import datetime, timezone\n",
        "from azure.cosmos import CosmosClient\n",
        "from utilities.constants import (\n",
        "    azure_cosmosdb_endpoint_prod,\n",
        "    azure_cosmosdb_account_key_prod,\n",
        "    azure_cosmosdb_database_prod,\n",
        "    azure_cosmosdb_conversations_container_prod,\n",
        "    logging\n",
        ")\n",
        "\n",
        "# Setup\n",
        "pd.set_option('display.max_columns', None)\n",
        "pd.set_option('display.max_rows', None)\n",
        "pd.set_option('display.max_colwidth', None)\n",
        "\n",
        "\n"
      ]
    },
    {
      "cell_type": "code",
      "source": [
        "# Initialize Cosmos DB client\n",
        "cosmos_client = CosmosClient(azure_cosmosdb_endpoint_prod, azure_cosmosdb_account_key_prod)\n",
        "database = cosmos_client.get_database_client(azure_cosmosdb_database_prod)\n",
        "container = database.get_container_client(azure_cosmosdb_conversations_container_prod)"
      ],
      "metadata": {
        "id": "NdPSXQ0pyW21"
      },
      "execution_count": null,
      "outputs": []
    },
    {
      "cell_type": "code",
      "source": [
        "\n",
        "# Define date range (May 1 to May 15, 2025)\n",
        "start_date = datetime(2025, 5, 1, tzinfo=timezone.utc)\n",
        "end_date = datetime(2025, 5, 15, 23, 59, 59, tzinfo=timezone.utc)\n"
      ],
      "metadata": {
        "id": "auPBa5D9ylo4"
      },
      "execution_count": null,
      "outputs": []
    },
    {
      "cell_type": "code",
      "source": [
        "\n",
        "# Cosmos DB query\n",
        "query_detailed = \"\"\"\n",
        "    SELECT  *\n",
        "    FROM c\n",
        "    WHERE c.createdAt >= '2025-05-01' AND c.createdAt <= '2025-05-15T23:59:59Z'\n",
        "    ORDER BY c.updatedAt DESC\n",
        "\"\"\""
      ],
      "metadata": {
        "id": "Krc984oRynGJ"
      },
      "execution_count": null,
      "outputs": []
    },
    {
      "cell_type": "code",
      "source": [
        "\n",
        "chat_logs = list(container.query_items(query=query_detailed, enable_cross_partition_query=True))\n",
        "df_data = pd.DataFrame(chat_logs)"
      ],
      "metadata": {
        "id": "IY4aHIEqyoRO"
      },
      "execution_count": null,
      "outputs": []
    },
    {
      "cell_type": "code",
      "source": [
        "# Helper functions\n",
        "def feedback(row):\n",
        "    if row['thumpsUp'] == 0.0 and row['thumpsDown'] == 0.0:\n",
        "        return \"no-feedback\"\n",
        "    elif row['thumpsUp'] == 1.0 and row['thumpsDown'] == 0.0:\n",
        "        return \"thumpsUp\"\n",
        "    elif row['thumpsUp'] == 0.0 and row['thumpsDown'] == 1.0:\n",
        "        return \"thumpsDown\"\n",
        "    else:\n",
        "        return \"no-feedback\"\n",
        "\n",
        "def month_week(dates):\n",
        "    firstday_month = dates - pd.to_timedelta(dates.dt.day - 1, unit='d')\n",
        "    return (dates.dt.day - 1 + firstday_month.dt.weekday) // 7 + 1\n"
      ],
      "metadata": {
        "id": "U3ut7D21yrQP"
      },
      "execution_count": null,
      "outputs": []
    },
    {
      "cell_type": "code",
      "source": [
        "\n",
        "# Date parsing\n",
        "df_data['createdAt'] = pd.to_datetime(df_data['createdAt'], format='mixed')\n",
        "df_data = df_data[(df_data['createdAt'] >= start_date) & (df_data['createdAt'] <= end_date)]\n",
        "\n",
        "# Extract date parts\n",
        "df_data['created_date'] = df_data['createdAt'].dt.date\n",
        "df_data['month'] = df_data['createdAt'].dt.month\n",
        "df_data['week_of_month'] = month_week(df_data['createdAt'])\n",
        "df_data['month-week'] = df_data['month'].astype(str) + '-' + df_data['week_of_month'].astype(str)\n",
        "\n",
        "# Feedback label\n",
        "df_data['feedback'] = df_data.apply(feedback, axis=1)\n",
        "df_data[['input_token_count','output_tokens','total_tokens','responseTime','thumpsUp','thumpsDown']] = \\\n",
        "    df_data[['input_token_count','output_tokens','total_tokens','responseTime','thumpsUp','thumpsDown']].fillna(0.0)\n",
        "\n",
        "# Flatten\n",
        "df_data_flat = df_data[['userId', 'id', 'type','created_date','month','week_of_month','month-week','user_query', 'output_response',\n",
        "                        'chat_id', 'input_token_count','output_tokens','total_tokens','responseTime', 'thumpsUp','thumpsDown','feedback']]"
      ],
      "metadata": {
        "id": "cvH2FrwFytqH"
      },
      "execution_count": null,
      "outputs": []
    },
    {
      "cell_type": "code",
      "source": [
        "\n",
        "# ──────────────────────────────────────────────────────────────\n",
        "# METRIC BLOCKS\n",
        "# ──────────────────────────────────────────────────────────────\n",
        "\n",
        "# 1. Feedback Counts per Week\n",
        "feedback_categories = ['no-feedback', 'thumpsDown', 'thumpsUp']\n",
        "feedback_summary = (\n",
        "    df_data_flat.groupby('month-week')['feedback']\n",
        "    .value_counts()\n",
        "    .unstack()\n",
        "    .reindex(columns=feedback_categories, fill_value=0)\n",
        ")\n",
        "print(\"\\n🔹 Feedback Summary\")\n",
        "print(feedback_summary)"
      ],
      "metadata": {
        "id": "fppMYPGXywcZ"
      },
      "execution_count": null,
      "outputs": []
    },
    {
      "cell_type": "code",
      "source": [
        "# 2. Response Time Distribution\n",
        "bins = [1, 10, 30, 60, 10000]\n",
        "response_time_dist = df_data_flat.groupby(['month-week', pd.cut(df_data_flat.responseTime, bins)]).size().unstack(fill_value=0)\n",
        "print(\"\\n🔹 Response Time Distribution (sec bins)\")\n",
        "print(response_time_dist)\n"
      ],
      "metadata": {
        "id": "dyIfvS1Qyx6Z"
      },
      "execution_count": null,
      "outputs": []
    },
    {
      "cell_type": "code",
      "source": [
        "# 3. Token Usage Summary\n",
        "token_summary = df_data_flat.groupby('month-week').agg(\n",
        "    inputTokens=('input_token_count', 'sum'),\n",
        "    outputTokens=('output_tokens', 'sum'),\n",
        "    totalTokens=('total_tokens', 'sum')\n",
        ").reset_index()\n",
        "print(\"\\n Token Summary\")\n",
        "print(token_summary)\n"
      ],
      "metadata": {
        "id": "JZVy5ptxy0eb"
      },
      "execution_count": null,
      "outputs": []
    },
    {
      "cell_type": "code",
      "source": [
        "\n",
        "# 4. Average Model Response Time per Query\n",
        "avg_response_summary = df_data_flat.groupby('month-week').agg(\n",
        "    avg_model_response_time=('responseTime', 'mean'),\n",
        "    query_count=('user_query', 'size')\n",
        ").reset_index()\n",
        "print(\"\\nAvg Model Response Time per Query\")\n",
        "print(avg_response_summary)\n"
      ],
      "metadata": {
        "id": "ccmyRCSIy2SR"
      },
      "execution_count": null,
      "outputs": []
    },
    {
      "cell_type": "code",
      "source": [
        "# 5. Active Users Weekly (3+ queries)\n",
        "df_weekly_users = df_data_flat.groupby(['month','week_of_month','userId']).size().reset_index(name='query_count')\n",
        "active_users_summary = df_weekly_users[df_weekly_users['query_count'] >= 3].groupby(['month','week_of_month']).agg(\n",
        "    active_users=('userId', 'size'),\n",
        "    active_users_list=('userId', lambda x: list(x.unique()))\n",
        ").reset_index()\n",
        "print(\"\\n Active Users (>=3 queries)\")\n",
        "print(active_users_summary)"
      ],
      "metadata": {
        "id": "-GDrZoIjy4Cp"
      },
      "execution_count": null,
      "outputs": []
    },
    {
      "cell_type": "code",
      "source": [
        "\n",
        "\n",
        "# ──────────────────────────────────────────────────────────────\n",
        "#  Visuals (Feedback + Response Time)\n",
        "# ──────────────────────────────────────────────────────────────\n",
        "\n",
        "# Feedback Plot\n",
        "feedback_summary.plot(kind='bar', stacked=True)\n",
        "plt.title('Feedback by Month-Week')\n",
        "plt.xlabel('Month-Week')\n",
        "plt.ylabel('Count')\n",
        "plt.tight_layout()\n",
        "plt.show()\n"
      ],
      "metadata": {
        "id": "sj2viWvSy7Ba"
      },
      "execution_count": null,
      "outputs": []
    },
    {
      "cell_type": "code",
      "source": [
        "\n",
        "# Response Time Plot\n",
        "ax = response_time_dist.plot(kind='bar', stacked=False)\n",
        "for p in ax.patches:\n",
        "    height = p.get_height()\n",
        "    if height > 0:\n",
        "        ax.annotate(str(height), (p.get_x() + p.get_width() / 2., height), ha='center', va='bottom')\n",
        "plt.title('Response Time Buckets by Week')\n",
        "plt.xlabel('Month-Week')\n",
        "plt.ylabel('Query Count')\n",
        "plt.legend(['1-10s', '10-30s', '30-60s', '60+ sec'])\n",
        "plt.tight_layout()\n",
        "plt.show()\n"
      ],
      "metadata": {
        "id": "M1hw1Ay2yW5L"
      },
      "execution_count": null,
      "outputs": []
    },
    {
      "cell_type": "code",
      "source": [],
      "metadata": {
        "id": "6w-QV3mvyW7v"
      },
      "execution_count": null,
      "outputs": []
    },
    {
      "cell_type": "code",
      "source": [],
      "metadata": {
        "id": "NyF82ZwMyW97"
      },
      "execution_count": null,
      "outputs": []
    },
    {
      "cell_type": "code",
      "source": [],
      "metadata": {
        "id": "WWZTzyxLyXAc"
      },
      "execution_count": null,
      "outputs": []
    },
    {
      "cell_type": "code",
      "source": [],
      "metadata": {
        "id": "-eWFaC25yXC6"
      },
      "execution_count": null,
      "outputs": []
    }
  ]
}